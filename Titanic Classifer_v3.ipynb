{
 "cells": [
  {
   "cell_type": "code",
   "execution_count": 1,
   "id": "178a3382-9e70-416b-a4d8-d2111215d8d3",
   "metadata": {},
   "outputs": [],
   "source": [
    "import pandas as pd\n",
    "import mlflow\n",
    "import mlflow.sklearn"
   ]
  },
  {
   "cell_type": "markdown",
   "id": "1dd6f77c-efd6-4a49-86f5-f68d98431ed1",
   "metadata": {},
   "source": [
    "### initialise the mlflow tracking"
   ]
  },
  {
   "cell_type": "code",
   "execution_count": 2,
   "id": "dd4bd0c0-d942-48e2-aac6-d2246dd2da27",
   "metadata": {},
   "outputs": [],
   "source": [
    "## enable autologging\n",
    "# mlflow.sklearn.autolog()\n",
    "\n",
    "mlflow.set_tracking_uri(uri=\"http://127.0.0.1:5000\")"
   ]
  },
  {
   "cell_type": "code",
   "execution_count": 3,
   "id": "2a8dbc24-e18e-4825-8826-518d99a7b427",
   "metadata": {},
   "outputs": [
    {
     "data": {
      "text/plain": [
       "<Experiment: artifact_location='mlflow-artifacts:/175961737334469267', creation_time=1738901739416, experiment_id='175961737334469267', last_update_time=1738901739416, lifecycle_stage='active', name='Deployment of ML Models', tags={}>"
      ]
     },
     "execution_count": 3,
     "metadata": {},
     "output_type": "execute_result"
    }
   ],
   "source": [
    "## create a new MLflow Experiment\n",
    "mlflow.set_experiment(\"Deployment of ML Models\")"
   ]
  },
  {
   "cell_type": "code",
   "execution_count": 4,
   "id": "7f53e44d-fc8c-4ac8-94e2-99363b149617",
   "metadata": {},
   "outputs": [],
   "source": [
    "df = pd.read_csv(\"titanic.csv\")"
   ]
  },
  {
   "cell_type": "markdown",
   "id": "bee927e6-7893-4a78-be74-86f7cbeb51ef",
   "metadata": {},
   "source": [
    "### Objective \n",
    "Create a ML classifier to predict whether a person will survive the titanic accident"
   ]
  },
  {
   "cell_type": "code",
   "execution_count": 5,
   "id": "4513bd7e-c01b-4963-9321-bc6ba1566be1",
   "metadata": {},
   "outputs": [],
   "source": [
    "df = df.fillna(0)"
   ]
  },
  {
   "cell_type": "code",
   "execution_count": 6,
   "id": "814c0b10-9998-4ae9-84f5-302e7d4e3032",
   "metadata": {},
   "outputs": [
    {
     "name": "stdout",
     "output_type": "stream",
     "text": [
      "<class 'pandas.core.frame.DataFrame'>\n",
      "RangeIndex: 891 entries, 0 to 890\n",
      "Data columns (total 12 columns):\n",
      " #   Column       Non-Null Count  Dtype  \n",
      "---  ------       --------------  -----  \n",
      " 0   PassengerId  891 non-null    int64  \n",
      " 1   Survived     891 non-null    int64  \n",
      " 2   Pclass       891 non-null    int64  \n",
      " 3   Name         891 non-null    object \n",
      " 4   Sex          891 non-null    object \n",
      " 5   Age          891 non-null    float64\n",
      " 6   SibSp        891 non-null    int64  \n",
      " 7   Parch        891 non-null    int64  \n",
      " 8   Ticket       891 non-null    object \n",
      " 9   Fare         891 non-null    float64\n",
      " 10  Cabin        891 non-null    object \n",
      " 11  Embarked     891 non-null    object \n",
      "dtypes: float64(2), int64(5), object(5)\n",
      "memory usage: 83.7+ KB\n"
     ]
    }
   ],
   "source": [
    "df.info()"
   ]
  },
  {
   "cell_type": "code",
   "execution_count": 7,
   "id": "dac01e6e-92b8-447b-a4f6-5b8a14003de0",
   "metadata": {},
   "outputs": [
    {
     "data": {
      "text/html": [
       "<div>\n",
       "<style scoped>\n",
       "    .dataframe tbody tr th:only-of-type {\n",
       "        vertical-align: middle;\n",
       "    }\n",
       "\n",
       "    .dataframe tbody tr th {\n",
       "        vertical-align: top;\n",
       "    }\n",
       "\n",
       "    .dataframe thead th {\n",
       "        text-align: right;\n",
       "    }\n",
       "</style>\n",
       "<table border=\"1\" class=\"dataframe\">\n",
       "  <thead>\n",
       "    <tr style=\"text-align: right;\">\n",
       "      <th></th>\n",
       "      <th>PassengerId</th>\n",
       "      <th>Survived</th>\n",
       "      <th>Pclass</th>\n",
       "      <th>Name</th>\n",
       "      <th>Sex</th>\n",
       "      <th>Age</th>\n",
       "      <th>SibSp</th>\n",
       "      <th>Parch</th>\n",
       "      <th>Ticket</th>\n",
       "      <th>Fare</th>\n",
       "      <th>Cabin</th>\n",
       "      <th>Embarked</th>\n",
       "    </tr>\n",
       "  </thead>\n",
       "  <tbody>\n",
       "    <tr>\n",
       "      <th>0</th>\n",
       "      <td>1</td>\n",
       "      <td>0</td>\n",
       "      <td>3</td>\n",
       "      <td>Braund, Mr. Owen Harris</td>\n",
       "      <td>male</td>\n",
       "      <td>22.0</td>\n",
       "      <td>1</td>\n",
       "      <td>0</td>\n",
       "      <td>A/5 21171</td>\n",
       "      <td>7.2500</td>\n",
       "      <td>0</td>\n",
       "      <td>S</td>\n",
       "    </tr>\n",
       "    <tr>\n",
       "      <th>1</th>\n",
       "      <td>2</td>\n",
       "      <td>1</td>\n",
       "      <td>1</td>\n",
       "      <td>Cumings, Mrs. John Bradley (Florence Briggs Th...</td>\n",
       "      <td>female</td>\n",
       "      <td>38.0</td>\n",
       "      <td>1</td>\n",
       "      <td>0</td>\n",
       "      <td>PC 17599</td>\n",
       "      <td>71.2833</td>\n",
       "      <td>C85</td>\n",
       "      <td>C</td>\n",
       "    </tr>\n",
       "    <tr>\n",
       "      <th>2</th>\n",
       "      <td>3</td>\n",
       "      <td>1</td>\n",
       "      <td>3</td>\n",
       "      <td>Heikkinen, Miss. Laina</td>\n",
       "      <td>female</td>\n",
       "      <td>26.0</td>\n",
       "      <td>0</td>\n",
       "      <td>0</td>\n",
       "      <td>STON/O2. 3101282</td>\n",
       "      <td>7.9250</td>\n",
       "      <td>0</td>\n",
       "      <td>S</td>\n",
       "    </tr>\n",
       "  </tbody>\n",
       "</table>\n",
       "</div>"
      ],
      "text/plain": [
       "   PassengerId  Survived  Pclass  \\\n",
       "0            1         0       3   \n",
       "1            2         1       1   \n",
       "2            3         1       3   \n",
       "\n",
       "                                                Name     Sex   Age  SibSp  \\\n",
       "0                            Braund, Mr. Owen Harris    male  22.0      1   \n",
       "1  Cumings, Mrs. John Bradley (Florence Briggs Th...  female  38.0      1   \n",
       "2                             Heikkinen, Miss. Laina  female  26.0      0   \n",
       "\n",
       "   Parch            Ticket     Fare Cabin Embarked  \n",
       "0      0         A/5 21171   7.2500     0        S  \n",
       "1      0          PC 17599  71.2833   C85        C  \n",
       "2      0  STON/O2. 3101282   7.9250     0        S  "
      ]
     },
     "execution_count": 7,
     "metadata": {},
     "output_type": "execute_result"
    }
   ],
   "source": [
    "df.head(3)"
   ]
  },
  {
   "cell_type": "code",
   "execution_count": 8,
   "id": "059667b4-233f-4950-ad2c-e3dbf0d6f8d1",
   "metadata": {},
   "outputs": [],
   "source": [
    "df[\"gender_enc\"]=df[\"Sex\"].astype('category').cat.codes"
   ]
  },
  {
   "cell_type": "code",
   "execution_count": 9,
   "id": "bc72eb8e-9682-4b5e-ae06-db098ea66918",
   "metadata": {},
   "outputs": [],
   "source": [
    "df[\"embark_enc\"]=df[\"Embarked\"].astype('category').cat.codes"
   ]
  },
  {
   "cell_type": "code",
   "execution_count": 10,
   "id": "bf2eebd1-b0b2-44d8-8d8b-9fca6d61a076",
   "metadata": {},
   "outputs": [],
   "source": [
    "X = df[[\"Pclass\",\"Age\",\"gender_enc\",\"embark_enc\",\"Fare\",\"SibSp\",\"Parch\"]]\n",
    "Y = df[\"Survived\"]"
   ]
  },
  {
   "cell_type": "markdown",
   "id": "d260c98e-20d7-476e-9717-8f0a1a6b88d0",
   "metadata": {},
   "source": [
    "### Test-Train split the data"
   ]
  },
  {
   "cell_type": "code",
   "execution_count": 11,
   "id": "d54b5f8e-64b2-4ffe-9046-cbd999ec9c2e",
   "metadata": {},
   "outputs": [],
   "source": [
    "from sklearn.model_selection import train_test_split\n",
    "X_train, X_test, y_train, y_test = train_test_split(X, Y, test_size=0.4, random_state=42)"
   ]
  },
  {
   "cell_type": "markdown",
   "id": "7fae967f-f341-4ae5-a1be-aaaa819aef4f",
   "metadata": {},
   "source": [
    "### Start MLflow run"
   ]
  },
  {
   "cell_type": "code",
   "execution_count": 12,
   "id": "2f2a94d5-62b4-499a-bcb3-791460863315",
   "metadata": {},
   "outputs": [],
   "source": [
    "from sklearn.tree import DecisionTreeClassifier\n",
    "from sklearn.metrics import accuracy_score"
   ]
  },
  {
   "cell_type": "code",
   "execution_count": 13,
   "id": "4bfb1175-f127-43ed-8228-f7c27e4f8fc5",
   "metadata": {},
   "outputs": [
    {
     "name": "stderr",
     "output_type": "stream",
     "text": [
      "C:\\Users\\lohan\\anaconda3\\envs\\mlops\\Lib\\site-packages\\mlflow\\types\\utils.py:452: UserWarning: Hint: Inferred schema contains integer column(s). Integer columns in Python cannot represent missing values. If your input data contains missing values at inference time, it will be encoded as floats and will cause a schema enforcement error. The best way to avoid this problem is to infer the model schema based on a realistic data sample (training dataset) that includes missing values. Alternatively, you can declare integer columns as doubles (float64) whenever these columns may have missing values. See `Handling Integers With Missing Values <https://www.mlflow.org/docs/latest/models.html#handling-integers-with-missing-values>`_ for more details.\n",
      "  warnings.warn(\n",
      "C:\\Users\\lohan\\anaconda3\\envs\\mlops\\Lib\\site-packages\\mlflow\\types\\utils.py:452: UserWarning: Hint: Inferred schema contains integer column(s). Integer columns in Python cannot represent missing values. If your input data contains missing values at inference time, it will be encoded as floats and will cause a schema enforcement error. The best way to avoid this problem is to infer the model schema based on a realistic data sample (training dataset) that includes missing values. Alternatively, you can declare integer columns as doubles (float64) whenever these columns may have missing values. See `Handling Integers With Missing Values <https://www.mlflow.org/docs/latest/models.html#handling-integers-with-missing-values>`_ for more details.\n",
      "  warnings.warn(\n",
      "Successfully registered model 'my_first_model'.\n",
      "2025/02/07 09:55:23 INFO mlflow.store.model_registry.abstract_store: Waiting up to 300 seconds for model version to finish creation. Model name: my_first_model, version 1\n"
     ]
    },
    {
     "name": "stdout",
     "output_type": "stream",
     "text": [
      "🏃 View run angry-crab-461 at: http://127.0.0.1:5000/#/experiments/175961737334469267/runs/c976222375754a97890d9e85dd14146a\n",
      "🧪 View experiment at: http://127.0.0.1:5000/#/experiments/175961737334469267\n"
     ]
    },
    {
     "name": "stderr",
     "output_type": "stream",
     "text": [
      "Created version '1' of model 'my_first_model'.\n"
     ]
    }
   ],
   "source": [
    "with mlflow.start_run():\n",
    "    # step:1 initialise the model class\n",
    "    model = DecisionTreeClassifier(criterion=\"entropy\",max_depth=5)\n",
    "    mlflow.log_params({'criterion':'entropy','max_depth':5})\n",
    "    #step:2 train the model over training data\n",
    "    model.fit(X_train,y_train)\n",
    "    mlflow.log_params({'train_size':X_train.shape[0]})\n",
    "    #step:3 predict this over test_set\n",
    "    y_pred = model.predict(X_test)\n",
    "    acc = accuracy_score(y_test,y_pred)*100\n",
    "    mlflow.log_metric(\"accuracy\",acc)\n",
    "    mlflow.set_tag(\"Training info\",\"Basic Decision Tree model on titanic dataset\")\n",
    "    ## log model\n",
    "    model_info = mlflow.sklearn.log_model(\n",
    "        sk_model = model,\n",
    "        artifact_path = \"iris_model\",\n",
    "        input_example = X_train,\n",
    "        registered_model_name = \"my_first_model\"\n",
    "    )\n",
    "    "
   ]
  }
 ],
 "metadata": {
  "kernelspec": {
   "display_name": "Python 3 (ipykernel)",
   "language": "python",
   "name": "python3"
  },
  "language_info": {
   "codemirror_mode": {
    "name": "ipython",
    "version": 3
   },
   "file_extension": ".py",
   "mimetype": "text/x-python",
   "name": "python",
   "nbconvert_exporter": "python",
   "pygments_lexer": "ipython3",
   "version": "3.12.8"
  }
 },
 "nbformat": 4,
 "nbformat_minor": 5
}
