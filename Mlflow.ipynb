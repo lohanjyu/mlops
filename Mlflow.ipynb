{
 "cells": [
  {
   "cell_type": "code",
   "execution_count": 1,
   "id": "db2516e9-a9eb-43db-aa7c-6498f2ab6853",
   "metadata": {},
   "outputs": [
    {
     "data": {
      "text/plain": [
       "'\\n!pip install numpy\\n!pip install scikit-learn\\n!pip install pandas\\n!pip install mlflow\\n'"
      ]
     },
     "execution_count": 1,
     "metadata": {},
     "output_type": "execute_result"
    }
   ],
   "source": [
    "'''\n",
    "!pip install numpy\n",
    "!pip install scikit-learn\n",
    "!pip install pandas\n",
    "!pip install mlflow\n",
    "'''"
   ]
  },
  {
   "cell_type": "markdown",
   "id": "fea99dc3-5d42-4e92-9fc7-2155f87d584d",
   "metadata": {},
   "source": [
    "**Logistic Regression - IRIS dataset**"
   ]
  },
  {
   "cell_type": "code",
   "execution_count": 2,
   "id": "51f7079c-208e-4079-8152-73aa12c66f26",
   "metadata": {},
   "outputs": [],
   "source": [
    "# Logistic Regression - IRIS dataset\n",
    "# Import necessary libraries\n",
    "from sklearn.datasets import load_iris\n",
    "import mlflow\n",
    "import mlflow.sklearn\n",
    "from sklearn.model_selection import train_test_split\n",
    "from sklearn.linear_model import LogisticRegression\n",
    "from sklearn.metrics import accuracy_score, classification_report\n",
    "\n",
    "# Step 1: Load the Iris dataset\n",
    "iris = load_iris()\n",
    "X = iris.data  # Features: sepal length, sepal width, petal length, petal width\n",
    "y = iris.target  # Labels: 0 = setosa, 1 = versicolor, 2 = virginica"
   ]
  },
  {
   "cell_type": "code",
   "execution_count": 3,
   "id": "0511fb51-178b-4898-a8ed-2f42eebeeddf",
   "metadata": {},
   "outputs": [],
   "source": [
    "## enable autologging\n",
    "mlflow.sklearn.autolog()"
   ]
  },
  {
   "cell_type": "code",
   "execution_count": 4,
   "id": "17dbfa22-f573-46b7-9826-e33eac442b12",
   "metadata": {},
   "outputs": [],
   "source": [
    "# Step 2: Split the data into training and testing sets\n",
    "X_train, X_test, y_train, y_test = train_test_split(X, y, test_size=0.3, random_state=42)"
   ]
  },
  {
   "cell_type": "code",
   "execution_count": 5,
   "id": "d112bcfd-db7b-4e13-9be1-1fc68984477a",
   "metadata": {},
   "outputs": [
    {
     "name": "stdout",
     "output_type": "stream",
     "text": [
      "Accuracy: 1.0\n",
      "Classification Report:\n",
      "              precision    recall  f1-score   support\n",
      "\n",
      "      setosa       1.00      1.00      1.00        19\n",
      "  versicolor       1.00      1.00      1.00        13\n",
      "   virginica       1.00      1.00      1.00        13\n",
      "\n",
      "    accuracy                           1.00        45\n",
      "   macro avg       1.00      1.00      1.00        45\n",
      "weighted avg       1.00      1.00      1.00        45\n",
      "\n"
     ]
    }
   ],
   "source": [
    "with mlflow.start_run():\n",
    "    # Step 3: Create a logistic regression model and fit it to the training data\n",
    "    model = LogisticRegression(max_iter=200)  # max_iter set higher to ensure convergence\n",
    "    model.fit(X_train, y_train)\n",
    "    \n",
    "    # Step 4: Predict the labels on the test set\n",
    "    y_pred = model.predict(X_test)\n",
    "    \n",
    "    # Step 5: Evaluate the model\n",
    "    accuracy = accuracy_score(y_test, y_pred)\n",
    "    report = classification_report(y_test, y_pred, target_names=iris.target_names)\n",
    "    \n",
    "    print(f\"Accuracy: {accuracy}\")\n",
    "    mlflow.log_metric(\"accuracy\",accuracy)\n",
    "    print(\"Classification Report:\")\n",
    "    print(report)"
   ]
  }
 ],
 "metadata": {
  "kernelspec": {
   "display_name": "Python 3 (ipykernel)",
   "language": "python",
   "name": "python3"
  },
  "language_info": {
   "codemirror_mode": {
    "name": "ipython",
    "version": 3
   },
   "file_extension": ".py",
   "mimetype": "text/x-python",
   "name": "python",
   "nbconvert_exporter": "python",
   "pygments_lexer": "ipython3",
   "version": "3.12.8"
  }
 },
 "nbformat": 4,
 "nbformat_minor": 5
}
